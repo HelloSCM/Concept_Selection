{
 "cells": [
  {
   "cell_type": "code",
   "execution_count": 2,
   "metadata": {},
   "outputs": [],
   "source": [
    "import torch\n",
    "import pickle\n",
    "\n",
    "\n",
    "num = 1000\n",
    "dataset = 'cifar100'\n",
    "bar = 3\n",
    "\n",
    "model = torch.load(f'results/{dataset}/mask/Cpt_{dataset}_rough_selection_bar_{bar}_Norm_00_Acc_0.8527/model.pt')\n",
    "mask = model.mask.cpu().detach()\n",
    "\n",
    "with open(f'concept_bank/{dataset}/{dataset}_rough_selection_bar_{bar}.pkl', 'rb') as file:\n",
    "    concept_bank = pickle.load(file)\n",
    "concept_names = list(concept_bank.keys())\n",
    "\n",
    "_, topX = torch.topk(mask, k=num)\n",
    "fine = [concept_names[i] for i in topX]\n",
    "\n",
    "Fine_Selection = {}\n",
    "for cpt in fine:\n",
    "    Fine_Selection[cpt] = concept_bank[cpt]\n",
    "\n",
    "with open(f'concept_bank/{dataset}/{dataset}_fine_selection_bar_{bar}_num_{len(Fine_Selection)}.pkl', 'wb') as file:\n",
    "    pickle.dump(Fine_Selection, file)"
   ]
  }
 ],
 "metadata": {
  "kernelspec": {
   "display_name": "normal",
   "language": "python",
   "name": "python3"
  },
  "language_info": {
   "codemirror_mode": {
    "name": "ipython",
    "version": 3
   },
   "file_extension": ".py",
   "mimetype": "text/x-python",
   "name": "python",
   "nbconvert_exporter": "python",
   "pygments_lexer": "ipython3",
   "version": "3.7.13"
  }
 },
 "nbformat": 4,
 "nbformat_minor": 2
}
