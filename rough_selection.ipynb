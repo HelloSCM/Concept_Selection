{
 "cells": [
  {
   "cell_type": "code",
   "execution_count": 2,
   "metadata": {},
   "outputs": [],
   "source": [
    "import pickle\n",
    "import numpy as np\n",
    "import torch\n",
    "\n",
    "\n",
    "dataset = 'cifar10'\n",
    "cpt_num = 1000\n",
    "\n",
    "with open(f'concept_bank/concept_bank_num_4167.pkl', 'rb') as file:\n",
    "    Cpt_base = pickle.load(file)\n",
    "with open(f'concept_bank/{dataset}/{dataset}_image_representation_train.pkl', 'rb') as file:\n",
    "    M_img = pickle.load(file)\n",
    "\n",
    "concept_name = list(Cpt_base.keys())\n",
    "M_cpt = torch.stack(list(Cpt_base.values())).cuda()\n",
    "M_img = torch.from_numpy(M_img).cuda()\n",
    "Rough_Selection = {}\n",
    "\n",
    "while len(Rough_Selection) < cpt_num:\n",
    "    Sim = torch.matmul(M_img, M_cpt.T)\n",
    "    Var = torch.var(Sim, dim=0)\n",
    "    slct_cpt_idx = torch.argmax(Var).item()\n",
    "    slct_cpt_name = concept_name[slct_cpt_idx]\n",
    "    slct_cpt_embed = M_cpt[slct_cpt_idx]\n",
    "    Rough_Selection[slct_cpt_name] = slct_cpt_embed.cpu()\n",
    "\n",
    "    M_cpt = torch.cat((M_cpt[:slct_cpt_idx], M_cpt[slct_cpt_idx+1:]))\n",
    "    concept_name.remove(slct_cpt_name)\n",
    "    M_slct = torch.matmul(torch.matmul(M_img, slct_cpt_embed).unsqueeze(1), slct_cpt_embed.unsqueeze(0))\n",
    "    M_img = M_img - M_slct\n",
    "\n",
    "with open(f'concept_bank/{dataset}/{dataset}_rough_selection_bar_3.pkl', 'wb') as file:\n",
    "    pickle.dump(Rough_Selection, file)"
   ]
  }
 ],
 "metadata": {
  "kernelspec": {
   "display_name": "normal",
   "language": "python",
   "name": "python3"
  },
  "language_info": {
   "codemirror_mode": {
    "name": "ipython",
    "version": 3
   },
   "file_extension": ".py",
   "mimetype": "text/x-python",
   "name": "python",
   "nbconvert_exporter": "python",
   "pygments_lexer": "ipython3",
   "version": "3.7.13"
  }
 },
 "nbformat": 4,
 "nbformat_minor": 2
}
