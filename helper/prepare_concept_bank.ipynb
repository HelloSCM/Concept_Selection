{
 "cells": [
  {
   "cell_type": "code",
   "execution_count": 1,
   "metadata": {},
   "outputs": [
    {
     "name": "stderr",
     "output_type": "stream",
     "text": [
      "/home/scm22/miniconda3/envs/normal/lib/python3.7/site-packages/tqdm/auto.py:22: TqdmWarning: IProgress not found. Please update jupyter and ipywidgets. See https://ipywidgets.readthedocs.io/en/stable/user_install.html\n",
      "  from .autonotebook import tqdm as notebook_tqdm\n"
     ]
    }
   ],
   "source": [
    "import json\n",
    "import pickle\n",
    "import numpy as np\n",
    "import torch\n",
    "import clip\n",
    "\n",
    "model, preprocess = clip.load('ViT-L/14', device='cuda')"
   ]
  },
  {
   "cell_type": "code",
   "execution_count": 14,
   "metadata": {},
   "outputs": [],
   "source": [
    "threshold = 10\n",
    "\n",
    "with open('concept_bank/object_synsets.json', 'r') as file:\n",
    "    objects = json.load(file)\n",
    "with open('concept_bank/attribute_synsets.json', 'r') as file:\n",
    "    attributes = json.load(file)\n",
    "with open('concept_bank/synsets.json', 'r') as file:\n",
    "    synsets = json.load(file)\n",
    "\n",
    "vg_concepts = {}\n",
    "for c in objects.values():\n",
    "    if (c.split(\".\")[1] == 'n' or c.split(\".\")[1] == 'a') and len(c.split(\".\")[0]) > 2:\n",
    "        cpt = c.split(\".\")[0].replace(\"_\", \" \")\n",
    "        if cpt in vg_concepts:\n",
    "            vg_concepts[cpt] += 1\n",
    "        else:\n",
    "            vg_concepts[cpt] = 1\n",
    "\n",
    "for c in attributes.values():\n",
    "    if (c.split(\".\")[1] == 'n' or c.split(\".\")[1] == 'a') and len(c.split(\".\")[0]) > 2:\n",
    "        cpt = c.split(\".\")[0].replace(\"_\", \" \")\n",
    "        if cpt in vg_concepts:\n",
    "            vg_concepts[cpt] += 1\n",
    "        else:\n",
    "            vg_concepts[cpt] = 1\n",
    "\n",
    "for c in synsets:\n",
    "    if (c['synset_name'].split(\".\")[1] == 'n' or c['synset_name'].split(\".\")[1] == 'a') and len(c['synset_name'].split(\".\")[0]) > 2:\n",
    "        cpt = c['synset_name'].split(\".\")[0].replace(\"_\", \" \")\n",
    "        if cpt in vg_concepts:\n",
    "            vg_concepts[cpt] += 1\n",
    "        else:\n",
    "            vg_concepts[cpt] = 1\n",
    "\n",
    "concepts = []\n",
    "for cpt, times in vg_concepts.items():\n",
    "    if times >= threshold:\n",
    "        concepts.append(cpt)\n",
    "concepts = sorted(concepts)#[3:]"
   ]
  },
  {
   "cell_type": "code",
   "execution_count": 15,
   "metadata": {},
   "outputs": [],
   "source": [
    "concept_bank = {}\n",
    "\n",
    "model.eval()\n",
    "with torch.no_grad():\n",
    "    for cpt in concepts:\n",
    "        text = clip.tokenize(cpt).cuda()\n",
    "        text_features = model.encode_text(text).cpu()\n",
    "        text_features = text_features / text_features.norm()\n",
    "        concept_bank[cpt] = text_features[0]\n",
    "\n",
    "with open(f'concept_bank/concept_bank_num_{len(concept_bank)}.pkl', 'wb') as file:\n",
    "    pickle.dump(concept_bank, file)"
   ]
  }
 ],
 "metadata": {
  "kernelspec": {
   "display_name": "normal",
   "language": "python",
   "name": "python3"
  },
  "language_info": {
   "codemirror_mode": {
    "name": "ipython",
    "version": 3
   },
   "file_extension": ".py",
   "mimetype": "text/x-python",
   "name": "python",
   "nbconvert_exporter": "python",
   "pygments_lexer": "ipython3",
   "version": "3.7.13"
  }
 },
 "nbformat": 4,
 "nbformat_minor": 2
}
